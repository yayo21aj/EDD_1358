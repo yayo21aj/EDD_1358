{
  "nbformat": 4,
  "nbformat_minor": 0,
  "metadata": {
    "colab": {
      "provenance": [],
      "authorship_tag": "ABX9TyNMk3OWSABGVplQ4x3PIRAl",
      "include_colab_link": true
    },
    "kernelspec": {
      "name": "python3",
      "display_name": "Python 3"
    },
    "language_info": {
      "name": "python"
    }
  },
  "cells": [
    {
      "cell_type": "markdown",
      "metadata": {
        "id": "view-in-github",
        "colab_type": "text"
      },
      "source": [
        "<a href=\"https://colab.research.google.com/github/yayo21aj/EDD_1358/blob/main/El_juego_de_la_vida.ipynb\" target=\"_parent\"><img src=\"https://colab.research.google.com/assets/colab-badge.svg\" alt=\"Open In Colab\"/></a>"
      ]
    },
    {
      "cell_type": "code",
      "source": [
        "import random\n",
        "\n",
        "def init(Nx, Ny):\n",
        "    C = [[0 for j in range(Nx)] for i in range(Ny)]\n",
        "    for i in range(Ny):\n",
        "        for j in range(Nx):\n",
        "            C[i][j] = random.randint(0,1)\n",
        "    return C\n",
        "\n",
        "C0 = init(5, 5)\n",
        "C0"
      ],
      "metadata": {
        "colab": {
          "base_uri": "https://localhost:8080/"
        },
        "id": "YnuxS7r0dy7z",
        "outputId": "37e0d59c-4f7b-43ce-8766-5479ef20a0ef"
      },
      "execution_count": null,
      "outputs": [
        {
          "output_type": "execute_result",
          "data": {
            "text/plain": [
              "[[0, 0, 0, 0, 1],\n",
              " [1, 1, 0, 0, 1],\n",
              " [0, 1, 0, 0, 0],\n",
              " [1, 0, 1, 1, 0],\n",
              " [1, 1, 1, 1, 1]]"
            ]
          },
          "metadata": {},
          "execution_count": 47
        }
      ]
    },
    {
      "cell_type": "code",
      "source": [
        "import matplotlib.pyplot as plt\n",
        "\n",
        "def plot(C, ax=None):\n",
        "    if ax is None:\n",
        "        fig, ax = plt.subplots(dpi=50)\n",
        "    ax.imshow(C, cmap=\"gray\")\n",
        "    ax.axis('off')\n",
        "\n",
        "plot(C0)"
      ],
      "metadata": {
        "colab": {
          "base_uri": "https://localhost:8080/",
          "height": 178
        },
        "id": "-Sn5gtGCd8x6",
        "outputId": "ace5bcda-f866-4cf7-90cd-dadc20a567e9"
      },
      "execution_count": null,
      "outputs": [
        {
          "output_type": "display_data",
          "data": {
            "text/plain": [
              "<Figure size 300x200 with 1 Axes>"
            ],
            "image/png": "[encoded data removed]"
          },
          "metadata": {
            "needs_background": "light"
          }
        }
      ]
    },
    {
      "cell_type": "code",
      "source": [
        "def gol(C, MAX_IT):\n",
        "    count = 0\n",
        "    Cs = [C]\n",
        "    Ny, Nx = len(C), len(C[0])\n",
        "    while count < MAX_IT:\n",
        "        C0 = [[0 for j in range(Nx)] for i in range(Ny)]\n",
        "        for i in range(Ny):\n",
        "            for j in range(Nx):\n",
        "                c = C[i][j]\n",
        "                v = 0\n",
        "                # la primer columna no tiene vecino a la izquierda\n",
        "                if j > 0:\n",
        "                    v += C[i][j-1]\n",
        "                # la última columna no tiene vecino a la derecha\n",
        "                if j < Nx - 1:\n",
        "                    v += C[i][j+1]\n",
        "                # la primer fila no tiene vecino arriba\n",
        "                if i > 0:\n",
        "                    v += C[i-1][j]\n",
        "                    # la primer columna no tiene vecino a la izquierda\n",
        "                    if j > 0:\n",
        "                        v += C[i-1][j-1]\n",
        "                    # la última columna no tiene vecino a la derecha\n",
        "                    if j < Nx - 1:\n",
        "                        v += C[i-1][j+1]\n",
        "                # la útlima fila no tiene vecino abajo\n",
        "                if i < Ny - 1:\n",
        "                    v += C[i+1][j]\n",
        "                    # la primer columna no tiene vecino a la izquierda\n",
        "                    if j > 0:\n",
        "                        v += C[i+1][j-1]\n",
        "                    # la última columna no tiene vecino a la derecha\n",
        "                    if j < Nx - 1:\n",
        "                        v += C[i+1][j+1]\n",
        "                # nuevo estado\n",
        "                if c == 0 and v == 3:\n",
        "                    C0[i][j] = 1\n",
        "                elif c == 1 and (v == 2 or v == 3):\n",
        "                    C0[i][j] = 1\n",
        "                else:\n",
        "                    C0[i][j] = 0\n",
        "        Cs.append(C0)\n",
        "        C = C0\n",
        "        count += 1\n",
        "    return Cs\n"
      ],
      "metadata": {
        "id": "myGC7_ogeGQU"
      },
      "execution_count": null,
      "outputs": []
    },
    {
      "cell_type": "code",
      "source": [
        "C = init(10, 10) #tamaño de la tabla\n",
        "Cs = gol(C, 10) #nùmero de iteraciones"
      ],
      "metadata": {
        "id": "ve26Br5mfbp9"
      },
      "execution_count": null,
      "outputs": []
    },
    {
      "cell_type": "code",
      "source": [
        "from matplotlib import animation, rc\n",
        "rc('animation', html='html5')\n",
        "\n",
        "def update(i):\n",
        "    ax.clear()\n",
        "    ax.imshow(Cs[i], cmap=\"gray\")\n",
        "    ax.axis('off')\n",
        "    return ax\n",
        "\n",
        "fig = plt.figure(dpi=100)\n",
        "ax = plt.subplot(1,1,1)\n",
        "anim = animation.FuncAnimation(fig, update, frames=len(Cs), interval=1000)\n",
        "plt.close()\n",
        "\n",
        "anim"
      ],
      "metadata": {
        "colab": {
          "base_uri": "https://localhost:8080/",
          "height": 421
        },
        "id": "4TqSo5fxfnrH",
        "outputId": "e2f3d3c9-f524-4768-83b8-20b0962d3fa9"
      },
      "execution_count": null,
      "outputs": [
        {
          "output_type": "execute_result",
          "data": {
            "text/plain": [
              "<matplotlib.animation.FuncAnimation at 0x7efcc657b910>"
            ],
            "text/html": [
              "<video width=\"600\" height=\"400\" controls autoplay loop>\n",
              "  <source type=\"video/mp4\" src=\"data:video/mp4;base64,AAAAHGZ0eXBNNFYgAAACAGlzb21pc28yYXZjMQAAAAhmcmVlAAAW4G1kYXQAAAKtBgX//6ncRem9\n",
              "5tlIt5Ys2CDZI+7veDI2NCAtIGNvcmUgMTUyIHIyODU0IGU5YTU5MDMgLSBILjI2NC9NUEVHLTQg\n",
              "QVZDIGNvZGVjIC0gQ29weWxlZnQgMjAwMy0yMDE3IC0gaHR0cDovL3d3dy52aWRlb2xhbi5vcmcv\n",
              "eDI2NC5odG1sIC0gb3B0aW9uczogY2FiYWM9MSByZWY9MyBkZWJsb2NrPTE6MDowIGFuYWx5c2U9\n",
              "MHgzOjB4MTEzIG1lPWhleCBzdWJtZT03IHBzeT0xIHBzeV9yZD0xLjAwOjAuMDAgbWl4ZWRfcmVm\n",
              "PTEgbWVfcmFuZ2U9MTYgY2hyb21hX21lPTEgdHJlbGxpcz0xIDh4OGRjdD0xIGNxbT0wIGRlYWR6\n",
              "b25lPTIxLDExIGZhc3RfcHNraXA9MSBjaHJvbWFfcXBfb2Zmc2V0PS0yIHRocmVhZHM9MyBsb29r\n",
              "YWhlYWRfdGhyZWFkcz0xIHNsaWNlZF90aHJlYWRzPTAgbnI9MCBkZWNpbWF0ZT0xIGludGVybGFj\n",
              "ZWQ9MCBibHVyYXlfY29tcGF0PTAgY29uc3RyYWluZWRfaW50cmE9MCBiZnJhbWVzPTMgYl9weXJh\n",
              "bWlkPTIgYl9hZGFwdD0xIGJfYmlhcz0wIGRpcmVjdD0xIHdlaWdodGI9MSBvcGVuX2dvcD0wIHdl\n",
              "aWdodHA9MiBrZXlpbnQ9MjUwIGtleWludF9taW49MSBzY2VuZWN1dD00MCBpbnRyYV9yZWZyZXNo\n",
              "PTAgcmNfbG9va2FoZWFkPTQwIHJjPWNyZiBtYnRyZWU9MSBjcmY9MjMuMCBxY29tcD0wLjYwIHFw\n",
              "bWluPTAgcXBtYXg9NjkgcXBzdGVwPTQgaXBfcmF0aW89MS40MCBhcT0xOjEuMDAAgAAABL5liIQA\n",
              "F//+99S3zLLtU2+2C6j3op4mX0N1JQGblsTtOoAAAAMAAAMAAKLUhF9kdgs3FsAAAAWQAHb+/7gT\n",
              "iP/AAHVf5OK7L5ji3oKvdSRTKAVAh8vz5H4u09ms4kkko0x1u29mHDMWqwdzrQmj4KXALDV84zst\n",
              "JX/ewNyCz34qAqOyoGyUnpp1p4Uv8s6Xjz1C6/JPvXV9snzP0O702vqtTDXJjrJq5aakXsK8RNGE\n",
              "/xGIsizqJA9zRrr/8SHDFh8U7o5qnTYdyBLVV4pagNTKwKu5jKzUhSnJO8Bn3O/iPIajr4C1N/w0\n",
              "FIEJPumFQ7YWrwSW8Hvae3rgGn+nDFNFO/1i2pQlIk4wVZyhMHu3NMN+b41wt3Cn6JgronaOKR+r\n",
              "mFTb3mynq9NPbxWw6G+MEBZMwpT2Am2xL7wbC9slBN1N4T2kuasvohAy6UjN5MySFZBuMOYVf7Vk\n",
              "4xkBgHH8bJj6JQ5HNUM2QcpdPf373HdIa4Y7MOy3mg/8RpYQcQuSo/jsULnP0Me3COegwSiL9tTO\n",
              "dbMIC0TACyUw6IPdcUeomM2ZjBmGFfHqpWvXiaMsIOezAMvHs1hBvumUahyOMJ4kHQex+eDHbwY7\n",
              "9bQJJ5XUNppnTBKSLDoPsAToHFX3Gh3+LKh8ZTc8oszbpVQUTBO0R+8widcNss5FUj/nVcvWBpx6\n",
              "aYAmjy9Qkx7N0fhHS5iAtcXckktIooQBsTV7TaQgK5eQF9rIPNZ24+2dfdH/myEYivReo3v8eQvN\n",
              "ylcObiHwj0AbTePuYe/wDkXijJ7y/9sTAS2i+NttJ/KGoaUriWbF+z7I/Xvhig9bZrEls554W+bp\n",
              "xA9pD6Jet8BweGPxkjTc02bodmwgBjQvAvhvhjnq+GqX7UqbycxL+jCZ+bYfBf5q2ruPXR7BDqIr\n",
              "19li7PzUezWvLoklp6Z3+xTADBQdSRKIxyWREIm9OerCh8X//VQ/Pyv+R+gCcTV8lC5JHH9JULxP\n",
              "EwmYtLNTK/tBXSrUt/XuvWqqftMp805RmkAANrD8v8P+cT0BemNeziLLIA8/TMq+OUNDjiz3k2Ds\n",
              "MNoiwlz2f9O0BY6tCixUh7lnPhKhTyTn+OxTJhn/wI/m64x3QxUAJtGN9OUyKAFr8mGFVNap9ZOB\n",
              "rrbiAAC0AOd4ercRw+x6D1QS7KqLfFwOU945LhtOsHsOVgXOWnbrDI+u3k+GcDpuPUPG755b7bTy\n",
              "KvGaKEwaHck2nXA8kIMVoPff8klpGEvnTzQQOPAPW9cvOgrjOPlp8gBS4BimnJJ5eKwGPeZb8YwZ\n",
              "q5M1AmSMNZhgUroSqsbJS8DUIlDCkA7EtYG5MG3n9Zo9fcLRh8pa4AEmFv4MM+a9R/eNAVVZq090\n",
              "WMEzLrFDjtxTVu9aXUoMR6Q/XwUgS1zAKyLS+TKy01q4x8K4brm1BIrM/TDhe0Poc3jxDDotaSrF\n",
              "xsVKr4P8HpgAraeN6MFt9UVx0BPS7uSl8MQQNrx3nBSAB3YTm0md6VZA2QvrcXB9D0nMYFvjJvDu\n",
              "PzR3MnZuYMlVE0KuFqHaJLb63SIfcComlEQuyt/AhPSB4mnXD9NOvfH+jBxCoDBuT6NXw7MdK9sH\n",
              "rfHgITPvvY+AAADigQAAAodBmiJsQX/+2qZYAK7+9xWpMrjBU8n6gAlXGP/B6DJ2/Ktchjf7vIGb\n",
              "LN9J1WuWgIel0qM6bFirT33oIYYmg4V9VQcosaczF2/xpQg3WXK1eCrUIE6eScCEgD72S1bk8Q65\n",
              "4l41orqG1cacZh5wgE1mEL2OBV4Wuj158j3Jlhi4OpSEqjPJ7xxQ+31/NNR3N8ZWVHp5OYn/EJeJ\n",
              "CBU9CKl2cj5zWZHqR3Rv/IOp0uX1Kdv0GlZJixYHMM09aNWH+25yfgh/FXj+++5Ho3qke0DcUFpX\n",
              "iCBAy0MsZXuvWKEtL7S6mT1souwvIT1WptYqz9aLGmaRWnoNzocLrPsn4TdLxbU9ZliN2a+vQVp2\n",
              "BUJQzguLdmWZcfDhnw7XFG21wtH5PDsBUTnPN/0iBVsfcgTRWZAsvZDqfo54BA8ZP4PaqyiMqsnS\n",
              "Sbcj0gU7P7vxSAR4UDcJ6XyO5jmjXqwfpYB5gXXv9/CGNwGgVMxjkA71Q0ESOzYjHawIosCiyKop\n",
              "/LRc11Kyz9ndXD9EVB4aoDT+g9LeSSi/ftjOMicKxZTfx0jHRNpydyjbOm5NLTLRt5zI/x+xsd+p\n",
              "OW5dukjP8j2FKDh5fFRMjqenZFwsfRyP++XxKgbbmf+ju1amsVmmw+ZbHoQYqOKTLRLm505GfGOl\n",
              "23rP8eiOZtiQQ6nTxXXhY5S1UhzNq75k6wb2FeljLPAb+8AamvVYSnTx7YXln4kvfRJDlOEC/Wdq\n",
              "9hDx5zURLBigprzqgkQbVdIrYvWKS5F94hhA+iEtcxT2T0ZRpkO9h2NhaDYooGv+uNJTlR+ao6YY\n",
              "oeCOhv/0ALVKuwFEyIIAWiqhbfEGAFd86e9LICPmtGY8diFr6AAAAqcBnkF5BX8AAHOs+NUqyeu5\n",
              "JnZcmU5twtEeXEnFJwAddht/n5fjm4lYpJLFrBJii2LvqQfMvtl20jJOix1PKMjraYBswqN/+R6d\n",
              "uZOnVb0wTKiaIL+YALGXQjEhMZVN3YJh/xROgO0TMCnpAnD5IQ5LJgcuS8m2vRF+f4BEhjIkLpt2\n",
              "Q3JdVCL8p989ZvDNSH7VO0Tnu4IuUm7LyF3x0WT3KUXLwkGY1FsFKIWx4bT1sszX/Lz7k2toX3Hl\n",
              "gODd8jeeWadQixdKqRLIThB3EHVPwXpMkE/9MnVcsW1qIRc6xF2PAS2tEyL1zUCnCzfXr3grVYiU\n",
              "RqglcpqFWAQVMVPLAemLBU9wzJg3+gExwYvx0m+70VkEfxIxKsfmV1gbgbXJZaoKt/ML94e/uDlV\n",
              "j/XJY/wzIHHaWP1kkMcjpXzRPm3Ou/qMO4mIydNC/HSw7R229OcLrnPBMRZM7L291mbfntem7By+\n",
              "7gg12fbC8hFiP65qzGLxzmBbyfogBr5mnshbHolU3OIsnBfsnO7ZR4QUmo2LulSW5j0UMGBmZYCK\n",
              "lQld+E+s8KuB8vIrlyX1TnbXGaBRUmcBQ9jdp+ulX3Eu8sxCfgrjVSgOjgORAOOvZeZeceWLm/rN\n",
              "+XN34zrMQC5rbWdLdJ2pUG/6y4gko+7QOXZfRQgCTgl7vyaidS++yTSjfvH4JM1LsKrR1TgejCaT\n",
              "vuu9D9xeKu0oSSSs8ZX+LyuigMMaOQ0t+4QzYtQqR8FdVEgASFoOhXt2kNnNi4WQHtafyOGXOh0Y\n",
              "LhT7DZxFOkgmsN9Y2ZAO6EdCzdrbs/pi4JAr6cRUQL3yZFDn3Hir+KMc8RdF1UMfl+SNjzpXIyWm\n",
              "DqlpUShabz/hlAs+Ex92ty7E8h4oPHaAyhdr4kaaGssrootpAAABvUGaRDwhkymEF//+2qZYAK4K\n",
              "PzpmKOXP8UBH3+StwghA+nT6phBj7gT0FMARagR/wOqeGVt6JbRsY0bZgqNSeS0SnVZ9HQq26hp5\n",
              "GepndY9ESD+8kZJSrFtJwqxt0qz8hr5596LW2l8pOEf9QB+S5Nh2FuoiOWj35g8mnReKD8M1VEQa\n",
              "/7wII4tABAj/3FVyKmriyZ8ftOcNNHpRijN0XqiZPUshqGXxJk+WfAwo7C2SSx0yzq/eBEGR7jw/\n",
              "aQEiv1b5QLRbKgAuI33d8gWzH+0AiuGFEwTztwi0zEnYZbsf5FuvhT24vm6KtkXYu1SegqP9UBN/\n",
              "4oqy5y83NdB/9NWwur/MirlGQllV/Rgs7l1kGUpOpfbOGlwn/gFdQ3RPU/rRHkBA6Sm5tIK+WpGj\n",
              "32LEPDhdMjqZnG2/15yJ3ucb/hOV/lQpb2IxkPv3+uuEXtuj0XFJcduwnZ88ahFfEpHfpa/HzTzy\n",
              "lNQtZDvQvfo2ot4AbOrSNUUUGuH/Gkx6hnyGBrGYsav3ut1eNpV1ux4u+Ns2lzE1CwhIhjJMkoSd\n",
              "JjD95FEE9kI8n3GJQGe1NfkXVFRDpwu1TcNRIeAAAAGpAZ5jakFfAABzqLJm8r79KUbcGEIHd9Ri\n",
              "/QucwzJmWiACIDQFrYwjEN8GeYC8vpkWRMxLGCx6ri2HqT8iKfpInpEQ/4KSXnwuM8XNoB7cGcH+\n",
              "b06u2bN6MfHe0nqbLW5fLqRTpVX6AruC1dHuWOy5nlyTmHmuNT68sMao3nTybSGn3W37mpUJ/FMt\n",
              "P4U9l3L5P/5gC7uPfurdA+Lmu9IY6/lPE1lSkE+eBszOR0rWvMdDIf37MAgR/a87b37sSIHN4ana\n",
              "tbRXpwjUrgbJyrLGC7X/LEz9ihxY0ySZ7peUnHuwCrjefNppphLIhbSTRpKSd+husNac+R5k6oR4\n",
              "vjYL0kYbKOqZhGyZ8Tp8L7DnD+T34AAjfBhyECWH1r6NHpHBSghflSVGRuya5Q/QPx9EfVGBs3Hy\n",
              "OL1jnvPXD0j5hye/LRBfWXj46Shqpb1qowqrhKUOwnRKTJPeMruC7lhcgk0EkVZSd4WQTFCsDNGy\n",
              "2Gig18ySoOnmKg/zOJxZHRJXXlCWS9KZmp/vkFa4ll/glx6MNuAXfkqNd3oK4qeIpzx4F4UZ3x1K\n",
              "P3UAAAE7QZplSeEPJlMCC//+2qZYAIQvjzpmKOCco1uAuE3MeUXD157MUJY7ca1pVJy5ABdNhP/g\n",
              "b9Ayv7HLgld8gCJ/sp9LsTS55KAyw7Dv5CsXlefWAccM33/CaUcF9fYrTLvamvIBHgB6+LMgB2e/\n",
              "dW/CDf+9veueBF8g44HfNVqm9oRUZyepVKwVjgoVryT5pAaxzALN5OhqVo+93DFQOSNI5cVDn6zP\n",
              "NhLBfR9EDDw9kkOtpOpAfvocxrpjvyMKvrpeuxjFJk+oAlqn9Si7k46gwl3Hgn7rG2KGAdJOc61a\n",
              "2GOuuW6FTFuL80gzaTSshe39yB16bluKd2YdP2vkx/ukiX06EfdOpmfVvvSKQ5n8nXiJz1DMjceV\n",
              "M1Qc2hexHKX7/nvz0bwYKTx2CLikHXnsNGlgsJfvIw/YoiWBAAAB3UGahknhDyZTAgv//tqmWAA9\n",
              "W+P/Dfj8ABGPTRtfYajEzDnDjt/pzjEcNXM9dj99meA6RX454WYPGk6MuRC5/cwaJ4WZaY5m1dj9\n",
              "zvqxcCuQahHKXgNGRJTJZUJGNJhEjC7EKxDE4WN3ieBCv6eN8iGGcB+6FRSluC7ob/0ADn09xVLE\n",
              "uFLXgOQvQ8UitXQ1HKetH8vd9pq6aibXD5Xx00seOn5E99gJbvepwPTi8IKmSj5f4Ly/oIyqwuwa\n",
              "j1kE56gRESk7yPxK+V5bcrPxZt5FwY5nN1G9iywDMXPq/pbLGB3KXFa/Tu12+wjzMVJmSvbCsSsJ\n",
              "Kbb8Hjq9+TqQWr8OkeaGHwtEobsSs1Ysxg0RvMnuEjObqTHmJNwfcBUtPE2Nag0jXbelR0ig770K\n",
              "OthCSJk9JV3CJ4lxzTGtXzIjXtmjq1Y0rcgHkzVZ3l2RboPd6pAVRWJwkvmDrqVTFOAlcFWwk1/w\n",
              "DZevtlMN3q4TmTpUJUt+xkO3YdCK51Vu364QAijvZ3zpb7HXEXTL3f+JmQh+mqhX+zqCimENCecp\n",
              "NDftetip51ZvqSbl/mUfnQZpjMhIXMn9CWgqVgrJhtgoHKWdmjgE2VSivHokziHpCHc81ijo1j/t\n",
              "joII2QAAAYtBmqlJ4Q8mUwILf/7WpVAAA1HOaWWJvc72T5NvYkeNAAznWjCK/AurToHgYKDMI5cl\n",
              "/+F65OUBplPM2Xhk2vCVnhY850QIV1BOy7dqwFt0ohwhYaxw0wo6ougsx73zriIPW+7xjoT1qLRu\n",
              "zzd8HrdBR+JltK8VvbQIeZmYSJJbzUbk/ki2pNEnixC6Lz3rMFRdgAkv7xUKdJCBG5NBYGACFaCy\n",
              "Vx/dIAQI96Qw7xJEUGSbVsOwjAlmG4gZ3VTic+gWtl4Eur56x029NDALJzU0MeQRhjk3P511IonB\n",
              "A7ShgC/eFFcO4PhD/381JJ7h6+P6nGHaQvfY6oSFsuUvGh0QAX6RrsjTQbUXBN8jBPU6FtNxTGZC\n",
              "14EegLIxhVRw8iQOVAn0O+OZVak4He0/MWTs1wO8Ci7pSWtkJRulKXzHwblLHgiL5ML8bMSoZMZi\n",
              "ZtcouS4XGmWzw8VTAZ1ap1Pe6gDotG/c8Wm7cO8C12i4B+yh+df3IcYkOo66XEmT8fxTN4AEVRfS\n",
              "UX8Z5QAAAINBnsdFETwV/wAAD30+lmvUFpnzIm6gCf37gMXt/mOjo1oyL1RifbNvoDqc88nAi0ly\n",
              "1VvvR5Vkm7cA1UWa/D0c2948MA3gORapJcN83/CgDye/NTmIkHUGdKZEAJzY2gD4R9QcPxgUM//k\n",
              "FUzBle0NTSpFmWHboIZB5Zz98afaRGcouAAAALQBnuhqQV8AAAMA11tFTEwoES9k2QU3u65Rl6+0\n",
              "AF28HfbhAbxWIZbiqKB4tfbVBRytYJxSmW++6TDRTlIeYcRi6qrR33X3Ik5/DlxpM/sk3G8yndiz\n",
              "P/GOd/yHUC3Rkuee8xRYhMQuVBdKoXaZrM8IF5uWCpx7uEIv1LhudhvENF9rNBWeUig5IF/INHMe\n",
              "Kn1hE1VxT/co2hoV4dLTOwSReZljULYJL3HoQbafwwN2CANhUMAAAADPQZrqSahBaJlMCCv//tal\n",
              "UAAJT0HX8iopFodbfYjQ9n3qQaRn4na98hS8dX6AqCtkAAnNjaAPwP9vcbcUIEIXfDODguo2viiu\n",
              "rjAPORchTk/jFEjxA+UXYrgWzjpT/MO9W7OBA+efjaPKh/WnBbOSNNljV/dCJR1McNMO79CmYmWi\n",
              "wH+UtT/hi8aGxVIAljxNc0zpasJ435wduooZpmBt7Mh5csyW1/cUQjxyNvsgPjPv8SENsOn1mqRm\n",
              "xt8RUuIBp9hECO0UjSdCZdRULhGxAAADo21vb3YAAABsbXZoZAAAAAAAAAAAAAAAAAAAA+gAACr4\n",
              "AAEAAAEAAAAAAAAAAAAAAAABAAAAAAAAAAAAAAAAAAAAAQAAAAAAAAAAAAAAAAAAQAAAAAAAAAAA\n",
              "AAAAAAAAAAAAAAAAAAAAAAAAAAAAAAIAAALNdHJhawAAAFx0a2hkAAAAAwAAAAAAAAAAAAAAAQAA\n",
              "AAAAACr4AAAAAAAAAAAAAAAAAAAAAAABAAAAAAAAAAAAAAAAAAAAAQAAAAAAAAAAAAAAAAAAQAAA\n",
              "AAJYAAABkAAAAAAAJGVkdHMAAAAcZWxzdAAAAAAAAAABAAAq+AAAgAAAAQAAAAACRW1kaWEAAAAg\n",
              "bWRoZAAAAAAAAAAAAAAAAAAAQAAAAsAAVcQAAAAAAC1oZGxyAAAAAAAAAAB2aWRlAAAAAAAAAAAA\n",
              "AAAAVmlkZW9IYW5kbGVyAAAAAfBtaW5mAAAAFHZtaGQAAAABAAAAAAAAAAAAAAAkZGluZgAAABxk\n",
              "cmVmAAAAAAAAAAEAAAAMdXJsIAAAAAEAAAGwc3RibAAAALRzdHNkAAAAAAAAAAEAAACkYXZjMQAA\n",
              "AAAAAAABAAAAAAAAAAAAAAAAAAAAAAJYAZAASAAAAEgAAAAAAAAAAQAAAAAAAAAAAAAAAAAAAAAA\n",
              "AAAAAAAAAAAAAAAAAAAAABj//wAAADJhdmNDAWQAFv/hABlnZAAWrNlAmDPl4QAAAwABAAADAAIP\n",
              "Fi2WAQAGaOvjyyLAAAAAHHV1aWRraEDyXyRPxbo5pRvPAyPzAAAAAAAAABhzdHRzAAAAAAAAAAEA\n",
              "AAALAABAAAAAABRzdHNzAAAAAAAAAAEAAAABAAAAWGN0dHMAAAAAAAAACQAAAAEAAIAAAAAAAQAA\n",
              "wAAAAAABAABAAAAAAAEAAMAAAAAAAQAAQAAAAAACAACAAAAAAAEAAQAAAAAAAgAAQAAAAAABAACA\n",
              "AAAAABxzdHNjAAAAAAAAAAEAAAABAAAACwAAAAEAAABAc3RzegAAAAAAAAAAAAAACwAAB3MAAAKL\n",
              "AAACqwAAAcEAAAGtAAABPwAAAeEAAAGPAAAAhwAAALgAAADTAAAAFHN0Y28AAAAAAAAAAQAAACwA\n",
              "AABidWR0YQAAAFptZXRhAAAAAAAAACFoZGxyAAAAAAAAAABtZGlyYXBwbAAAAAAAAAAAAAAAAC1p\n",
              "bHN0AAAAJal0b28AAAAdZGF0YQAAAAEAAAAATGF2ZjU3LjgzLjEwMA==\n",
              "\">\n",
              "  Your browser does not support the video tag.\n",
              "</video>"
            ]
          },
          "metadata": {},
          "execution_count": 53
        }
      ]
    }
  ]
}